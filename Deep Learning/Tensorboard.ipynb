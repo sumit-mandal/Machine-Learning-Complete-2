{
 "cells": [
  {
   "cell_type": "markdown",
   "metadata": {},
   "source": [
    "# Tensorboard\n",
    "\n",
    "---\n",
    "---\n",
    "\n",
    "\n",
    "---\n",
    "---\n",
    "\n",
    "Let's explore the built in data visualization capabilities that come with Tensorboard.\n",
    "\n",
    "Full official tutorial available here: https://www.tensorflow.org/tensorboard/get_started\n",
    "\n",
    "## Data"
   ]
  },
  {
   "cell_type": "code",
   "execution_count": 7,
   "metadata": {},
   "outputs": [],
   "source": [
    "import pandas as pd\n",
    "import numpy as np"
   ]
  },
  {
   "cell_type": "code",
   "execution_count": 12,
   "metadata": {},
   "outputs": [],
   "source": [
    "df = pd.read_csv('cancer_classification.csv')"
   ]
  },
  {
   "cell_type": "markdown",
   "metadata": {},
   "source": [
    "### Train Test Split"
   ]
  },
  {
   "cell_type": "code",
   "execution_count": 13,
   "metadata": {},
   "outputs": [],
   "source": [
    "X = df.drop('benign_0__mal_1',axis=1).values\n",
    "y = df['benign_0__mal_1'].values"
   ]
  },
  {
   "cell_type": "code",
   "execution_count": 14,
   "metadata": {},
   "outputs": [],
   "source": [
    "from sklearn.model_selection import train_test_split"
   ]
  },
  {
   "cell_type": "code",
   "execution_count": 15,
   "metadata": {},
   "outputs": [],
   "source": [
    "X_train, X_test, y_train, y_test = train_test_split(X,y,test_size=0.25,random_state=101)"
   ]
  },
  {
   "cell_type": "markdown",
   "metadata": {},
   "source": [
    "\n",
    "### Scaling Data"
   ]
  },
  {
   "cell_type": "code",
   "execution_count": 16,
   "metadata": {},
   "outputs": [],
   "source": [
    "from sklearn.preprocessing import MinMaxScaler"
   ]
  },
  {
   "cell_type": "code",
   "execution_count": 17,
   "metadata": {},
   "outputs": [],
   "source": [
    "scaler = MinMaxScaler()"
   ]
  },
  {
   "cell_type": "code",
   "execution_count": 18,
   "metadata": {},
   "outputs": [
    {
     "data": {
      "text/plain": [
       "MinMaxScaler()"
      ]
     },
     "execution_count": 18,
     "metadata": {},
     "output_type": "execute_result"
    }
   ],
   "source": [
    "scaler.fit(X_train)"
   ]
  },
  {
   "cell_type": "code",
   "execution_count": 19,
   "metadata": {},
   "outputs": [],
   "source": [
    "X_train = scaler.transform(X_train)\n",
    "X_test = scaler.transform(X_test)"
   ]
  },
  {
   "cell_type": "markdown",
   "metadata": {},
   "source": [
    "## Creating the Model"
   ]
  },
  {
   "cell_type": "code",
   "execution_count": 20,
   "metadata": {},
   "outputs": [],
   "source": [
    "import tensorflow as tf\n",
    "from tensorflow.keras.models import Sequential\n",
    "from tensorflow.keras.layers import Dense, Activation,Dropout"
   ]
  },
  {
   "cell_type": "code",
   "execution_count": 21,
   "metadata": {},
   "outputs": [],
   "source": [
    "from tensorflow.keras.callbacks import EarlyStopping,TensorBoard"
   ]
  },
  {
   "cell_type": "code",
   "execution_count": 22,
   "metadata": {},
   "outputs": [],
   "source": [
    "early_stop = EarlyStopping(monitor='val_loss', mode='min', verbose=1, patience=25)"
   ]
  },
  {
   "cell_type": "code",
   "execution_count": 23,
   "metadata": {},
   "outputs": [
    {
     "data": {
      "text/plain": [
       "'D:\\\\Machine_Learning_Complete_2\\\\Deep Learning'"
      ]
     },
     "execution_count": 23,
     "metadata": {},
     "output_type": "execute_result"
    }
   ],
   "source": [
    "pwd"
   ]
  },
  {
   "cell_type": "markdown",
   "metadata": {},
   "source": [
    "## Creating the Tensorboard Callback\n",
    "\n",
    "TensorBoard is a visualization tool provided with TensorFlow.\n",
    "\n",
    "This callback logs events for TensorBoard, including:\n",
    "* Metrics summary plots\n",
    "* Training graph visualization\n",
    "* Activation histograms\n",
    "* Sampled profiling\n",
    "\n",
    "If you have installed TensorFlow with pip, you should be able\n",
    "to launch TensorBoard from the command line:\n",
    "\n",
    "```sh\n",
    "tensorboard --logdir=path_to_your_logs\n",
    "```\n",
    "\n",
    "You can find more information about TensorBoard\n",
    "[here](https://www.tensorflow.org/tensorboard/).\n",
    "\n",
    "    Arguments:\n",
    "        log_dir: the path of the directory where to save the log files to be\n",
    "          parsed by TensorBoard.\n",
    "        histogram_freq: frequency (in epochs) at which to compute activation and\n",
    "          weight histograms for the layers of the model. If set to 0, histograms\n",
    "          won't be computed. Validation data (or split) must be specified for\n",
    "          histogram visualizations.\n",
    "        write_graph: whether to visualize the graph in TensorBoard. The log file\n",
    "          can become quite large when write_graph is set to True.\n",
    "        write_images: whether to write model weights to visualize as image in\n",
    "          TensorBoard.\n",
    "        update_freq: `'batch'` or `'epoch'` or integer. When using `'batch'`,\n",
    "          writes the losses and metrics to TensorBoard after each batch. The same\n",
    "          applies for `'epoch'`. If using an integer, let's say `1000`, the\n",
    "          callback will write the metrics and losses to TensorBoard every 1000\n",
    "          samples. Note that writing too frequently to TensorBoard can slow down\n",
    "          your training.\n",
    "        profile_batch: Profile the batch to sample compute characteristics. By\n",
    "          default, it will profile the second batch. Set profile_batch=0 to\n",
    "          disable profiling. Must run in TensorFlow eager mode.\n",
    "        embeddings_freq: frequency (in epochs) at which embedding layers will\n",
    "          be visualized. If set to 0, embeddings won't be visualized.\n",
    "       "
   ]
  },
  {
   "cell_type": "code",
   "execution_count": 24,
   "metadata": {},
   "outputs": [],
   "source": [
    "from datetime import datetime"
   ]
  },
  {
   "cell_type": "code",
   "execution_count": 25,
   "metadata": {},
   "outputs": [
    {
     "data": {
      "text/plain": [
       "'2021-06-28--1236'"
      ]
     },
     "execution_count": 25,
     "metadata": {},
     "output_type": "execute_result"
    }
   ],
   "source": [
    "datetime.now().strftime(\"%Y-%m-%d--%H%M\")"
   ]
  },
  {
   "cell_type": "code",
   "execution_count": 26,
   "metadata": {},
   "outputs": [],
   "source": [
    "# WINDOWS: Use \"logs\\\\fit\"\n",
    "# MACOS/LINUX: Use \"logs\\fit\"\n",
    "\n",
    "log_directory = 'logs\\\\fit'\n",
    "\n",
    "# OPTIONAL: ADD A TIMESTAMP FOR UNIQUE FOLDER\n",
    "# timestamp = datetime.now().strftime(\"%Y-%m-%d--%H%M\")\n",
    "# log_directory = log_directory + '\\\\' + timestamp\n",
    "\n",
    "\n",
    "board = TensorBoard(log_dir=log_directory,histogram_freq=1,\n",
    "    write_graph=True,\n",
    "    write_images=True,\n",
    "    update_freq='epoch',\n",
    "    profile_batch=2,\n",
    "    embeddings_freq=1)"
   ]
  },
  {
   "cell_type": "markdown",
   "metadata": {},
   "source": [
    "Now create the model layers:"
   ]
  },
  {
   "cell_type": "code",
   "execution_count": 27,
   "metadata": {},
   "outputs": [],
   "source": [
    "model = Sequential()\n",
    "model.add(Dense(units=30,activation='relu'))\n",
    "model.add(Dropout(0.5))\n",
    "model.add(Dense(units=15,activation='relu'))\n",
    "model.add(Dropout(0.5))\n",
    "model.add(Dense(units=1,activation='sigmoid'))\n",
    "model.compile(loss='binary_crossentropy', optimizer='adam')"
   ]
  },
  {
   "cell_type": "markdown",
   "metadata": {},
   "source": [
    "## Train the Model"
   ]
  },
  {
   "cell_type": "code",
   "execution_count": 28,
   "metadata": {},
   "outputs": [
    {
     "name": "stdout",
     "output_type": "stream",
     "text": [
      "Epoch 1/600\n",
      "14/14 [==============================] - 3s 93ms/step - loss: 0.6855 - val_loss: 0.6719\n",
      "Epoch 2/600\n",
      "14/14 [==============================] - 0s 7ms/step - loss: 0.6682 - val_loss: 0.6613\n",
      "Epoch 3/600\n",
      "14/14 [==============================] - 0s 7ms/step - loss: 0.6652 - val_loss: 0.6488\n",
      "Epoch 4/600\n",
      "14/14 [==============================] - 0s 7ms/step - loss: 0.6471 - val_loss: 0.6365\n",
      "Epoch 5/600\n",
      "14/14 [==============================] - 0s 7ms/step - loss: 0.6562 - val_loss: 0.6164\n",
      "Epoch 6/600\n",
      "14/14 [==============================] - 0s 11ms/step - loss: 0.6229 - val_loss: 0.5859\n",
      "Epoch 7/600\n",
      "14/14 [==============================] - 0s 8ms/step - loss: 0.5955 - val_loss: 0.5564\n",
      "Epoch 8/600\n",
      "14/14 [==============================] - 0s 11ms/step - loss: 0.5853 - val_loss: 0.5280\n",
      "Epoch 9/600\n",
      "14/14 [==============================] - 0s 7ms/step - loss: 0.5701 - val_loss: 0.4979\n",
      "Epoch 10/600\n",
      "14/14 [==============================] - 0s 8ms/step - loss: 0.5095 - val_loss: 0.4668\n",
      "Epoch 11/600\n",
      "14/14 [==============================] - 0s 11ms/step - loss: 0.5168 - val_loss: 0.4392\n",
      "Epoch 12/600\n",
      "14/14 [==============================] - 0s 11ms/step - loss: 0.5251 - val_loss: 0.4086\n",
      "Epoch 13/600\n",
      "14/14 [==============================] - 0s 11ms/step - loss: 0.4806 - val_loss: 0.3819\n",
      "Epoch 14/600\n",
      "14/14 [==============================] - 0s 10ms/step - loss: 0.4570 - val_loss: 0.3548\n",
      "Epoch 15/600\n",
      "14/14 [==============================] - 0s 9ms/step - loss: 0.4170 - val_loss: 0.3285\n",
      "Epoch 16/600\n",
      "14/14 [==============================] - 0s 8ms/step - loss: 0.4119 - val_loss: 0.3059\n",
      "Epoch 17/600\n",
      "14/14 [==============================] - 0s 8ms/step - loss: 0.4061 - val_loss: 0.2894\n",
      "Epoch 18/600\n",
      "14/14 [==============================] - 0s 9ms/step - loss: 0.3798 - val_loss: 0.2762\n",
      "Epoch 19/600\n",
      "14/14 [==============================] - 0s 11ms/step - loss: 0.3417 - val_loss: 0.2542\n",
      "Epoch 20/600\n",
      "14/14 [==============================] - 0s 7ms/step - loss: 0.3479 - val_loss: 0.2390\n",
      "Epoch 21/600\n",
      "14/14 [==============================] - 0s 8ms/step - loss: 0.3143 - val_loss: 0.2290\n",
      "Epoch 22/600\n",
      "14/14 [==============================] - 0s 10ms/step - loss: 0.2979 - val_loss: 0.2162\n",
      "Epoch 23/600\n",
      "14/14 [==============================] - 0s 7ms/step - loss: 0.3234 - val_loss: 0.2054\n",
      "Epoch 24/600\n",
      "14/14 [==============================] - 0s 7ms/step - loss: 0.2883 - val_loss: 0.1971\n",
      "Epoch 25/600\n",
      "14/14 [==============================] - 0s 8ms/step - loss: 0.2661 - val_loss: 0.1887\n",
      "Epoch 26/600\n",
      "14/14 [==============================] - 0s 11ms/step - loss: 0.2351 - val_loss: 0.1758\n",
      "Epoch 27/600\n",
      "14/14 [==============================] - 0s 11ms/step - loss: 0.2914 - val_loss: 0.1808\n",
      "Epoch 28/600\n",
      "14/14 [==============================] - 0s 9ms/step - loss: 0.2559 - val_loss: 0.1729\n",
      "Epoch 29/600\n",
      "14/14 [==============================] - 0s 10ms/step - loss: 0.2403 - val_loss: 0.1672\n",
      "Epoch 30/600\n",
      "14/14 [==============================] - 0s 11ms/step - loss: 0.2402 - val_loss: 0.1614\n",
      "Epoch 31/600\n",
      "14/14 [==============================] - 0s 12ms/step - loss: 0.2526 - val_loss: 0.1526\n",
      "Epoch 32/600\n",
      "14/14 [==============================] - 0s 11ms/step - loss: 0.2268 - val_loss: 0.1497\n",
      "Epoch 33/600\n",
      "14/14 [==============================] - 0s 10ms/step - loss: 0.2189 - val_loss: 0.1425\n",
      "Epoch 34/600\n",
      "14/14 [==============================] - 0s 10ms/step - loss: 0.2277 - val_loss: 0.1431\n",
      "Epoch 35/600\n",
      "14/14 [==============================] - 0s 8ms/step - loss: 0.2087 - val_loss: 0.1346\n",
      "Epoch 36/600\n",
      "14/14 [==============================] - 0s 8ms/step - loss: 0.2318 - val_loss: 0.1303\n",
      "Epoch 37/600\n",
      "14/14 [==============================] - 0s 8ms/step - loss: 0.1877 - val_loss: 0.1383\n",
      "Epoch 38/600\n",
      "14/14 [==============================] - 0s 7ms/step - loss: 0.2323 - val_loss: 0.1278\n",
      "Epoch 39/600\n",
      "14/14 [==============================] - 0s 8ms/step - loss: 0.2149 - val_loss: 0.1279\n",
      "Epoch 40/600\n",
      "14/14 [==============================] - 0s 8ms/step - loss: 0.1641 - val_loss: 0.1250\n",
      "Epoch 41/600\n",
      "14/14 [==============================] - 0s 8ms/step - loss: 0.2165 - val_loss: 0.1208\n",
      "Epoch 42/600\n",
      "14/14 [==============================] - 0s 7ms/step - loss: 0.1742 - val_loss: 0.1169\n",
      "Epoch 43/600\n",
      "14/14 [==============================] - 0s 9ms/step - loss: 0.2053 - val_loss: 0.1134\n",
      "Epoch 44/600\n",
      "14/14 [==============================] - 0s 10ms/step - loss: 0.1481 - val_loss: 0.1189\n",
      "Epoch 45/600\n",
      "14/14 [==============================] - 0s 12ms/step - loss: 0.1442 - val_loss: 0.1146\n",
      "Epoch 46/600\n",
      "14/14 [==============================] - 0s 10ms/step - loss: 0.1495 - val_loss: 0.1058\n",
      "Epoch 47/600\n",
      "14/14 [==============================] - 0s 8ms/step - loss: 0.1446 - val_loss: 0.1051\n",
      "Epoch 48/600\n",
      "14/14 [==============================] - 0s 9ms/step - loss: 0.1823 - val_loss: 0.1007\n",
      "Epoch 49/600\n",
      "14/14 [==============================] - 0s 8ms/step - loss: 0.1741 - val_loss: 0.1074\n",
      "Epoch 50/600\n",
      "14/14 [==============================] - 0s 8ms/step - loss: 0.1710 - val_loss: 0.1028\n",
      "Epoch 51/600\n",
      "14/14 [==============================] - 0s 8ms/step - loss: 0.1550 - val_loss: 0.1010\n",
      "Epoch 52/600\n",
      "14/14 [==============================] - 0s 8ms/step - loss: 0.1585 - val_loss: 0.1029\n",
      "Epoch 53/600\n",
      "14/14 [==============================] - 0s 8ms/step - loss: 0.1707 - val_loss: 0.1045\n",
      "Epoch 54/600\n",
      "14/14 [==============================] - 0s 8ms/step - loss: 0.1847 - val_loss: 0.0983\n",
      "Epoch 55/600\n",
      "14/14 [==============================] - 0s 8ms/step - loss: 0.1412 - val_loss: 0.1013\n",
      "Epoch 56/600\n",
      "14/14 [==============================] - 0s 8ms/step - loss: 0.1400 - val_loss: 0.0950\n",
      "Epoch 57/600\n",
      "14/14 [==============================] - 0s 13ms/step - loss: 0.1270 - val_loss: 0.1172\n",
      "Epoch 58/600\n",
      "14/14 [==============================] - 0s 12ms/step - loss: 0.1550 - val_loss: 0.0940\n",
      "Epoch 59/600\n",
      "14/14 [==============================] - 0s 9ms/step - loss: 0.1575 - val_loss: 0.0908\n",
      "Epoch 60/600\n",
      "14/14 [==============================] - 0s 10ms/step - loss: 0.1151 - val_loss: 0.1013\n",
      "Epoch 61/600\n",
      "14/14 [==============================] - 0s 11ms/step - loss: 0.1505 - val_loss: 0.0946\n",
      "Epoch 62/600\n",
      "14/14 [==============================] - 0s 10ms/step - loss: 0.1423 - val_loss: 0.0939\n",
      "Epoch 63/600\n",
      "14/14 [==============================] - 0s 11ms/step - loss: 0.1734 - val_loss: 0.1074\n",
      "Epoch 64/600\n",
      "14/14 [==============================] - 0s 9ms/step - loss: 0.1269 - val_loss: 0.0959\n",
      "Epoch 65/600\n",
      "14/14 [==============================] - 0s 11ms/step - loss: 0.1447 - val_loss: 0.0959\n",
      "Epoch 66/600\n",
      "14/14 [==============================] - 0s 12ms/step - loss: 0.0959 - val_loss: 0.0909\n",
      "Epoch 67/600\n",
      "14/14 [==============================] - 0s 9ms/step - loss: 0.1171 - val_loss: 0.0941\n",
      "Epoch 68/600\n",
      "14/14 [==============================] - 0s 9ms/step - loss: 0.1258 - val_loss: 0.0941\n",
      "Epoch 69/600\n",
      "14/14 [==============================] - 0s 8ms/step - loss: 0.1329 - val_loss: 0.0903\n",
      "Epoch 70/600\n",
      "14/14 [==============================] - 0s 8ms/step - loss: 0.0969 - val_loss: 0.0911\n",
      "Epoch 71/600\n",
      "14/14 [==============================] - 0s 9ms/step - loss: 0.1488 - val_loss: 0.1097\n",
      "Epoch 72/600\n",
      "14/14 [==============================] - 0s 8ms/step - loss: 0.1311 - val_loss: 0.0961\n",
      "Epoch 73/600\n",
      "14/14 [==============================] - 0s 17ms/step - loss: 0.1787 - val_loss: 0.0924\n",
      "Epoch 74/600\n",
      "14/14 [==============================] - 0s 8ms/step - loss: 0.0961 - val_loss: 0.0925\n",
      "Epoch 75/600\n",
      "14/14 [==============================] - 0s 7ms/step - loss: 0.1234 - val_loss: 0.1042\n",
      "Epoch 76/600\n",
      "14/14 [==============================] - 0s 9ms/step - loss: 0.1717 - val_loss: 0.1079\n",
      "Epoch 77/600\n",
      "14/14 [==============================] - 0s 8ms/step - loss: 0.1075 - val_loss: 0.0863\n",
      "Epoch 78/600\n",
      "14/14 [==============================] - 0s 7ms/step - loss: 0.1340 - val_loss: 0.0928\n",
      "Epoch 79/600\n",
      "14/14 [==============================] - 0s 8ms/step - loss: 0.1100 - val_loss: 0.0918\n",
      "Epoch 80/600\n",
      "14/14 [==============================] - 0s 8ms/step - loss: 0.1160 - val_loss: 0.0962\n",
      "Epoch 81/600\n",
      "14/14 [==============================] - 0s 8ms/step - loss: 0.0845 - val_loss: 0.0848\n",
      "Epoch 82/600\n",
      "14/14 [==============================] - 0s 8ms/step - loss: 0.1117 - val_loss: 0.0896\n",
      "Epoch 83/600\n",
      "14/14 [==============================] - 0s 8ms/step - loss: 0.1058 - val_loss: 0.0902\n",
      "Epoch 84/600\n",
      "14/14 [==============================] - 0s 7ms/step - loss: 0.1368 - val_loss: 0.0938\n",
      "Epoch 85/600\n",
      "14/14 [==============================] - 0s 8ms/step - loss: 0.0846 - val_loss: 0.1016\n",
      "Epoch 86/600\n",
      "14/14 [==============================] - 0s 8ms/step - loss: 0.1123 - val_loss: 0.0985\n",
      "Epoch 87/600\n",
      "14/14 [==============================] - 0s 8ms/step - loss: 0.1104 - val_loss: 0.0973\n",
      "Epoch 88/600\n",
      "14/14 [==============================] - 0s 7ms/step - loss: 0.0899 - val_loss: 0.0965\n",
      "Epoch 89/600\n",
      "14/14 [==============================] - 0s 8ms/step - loss: 0.1107 - val_loss: 0.0982\n",
      "Epoch 90/600\n",
      "14/14 [==============================] - 0s 8ms/step - loss: 0.0944 - val_loss: 0.0985\n",
      "Epoch 91/600\n",
      "14/14 [==============================] - 0s 8ms/step - loss: 0.1164 - val_loss: 0.1009\n",
      "Epoch 92/600\n",
      "14/14 [==============================] - 0s 8ms/step - loss: 0.0943 - val_loss: 0.0957\n",
      "Epoch 93/600\n",
      "14/14 [==============================] - 0s 8ms/step - loss: 0.0921 - val_loss: 0.0870\n",
      "Epoch 94/600\n",
      "14/14 [==============================] - 0s 11ms/step - loss: 0.1003 - val_loss: 0.0943\n",
      "Epoch 95/600\n",
      "14/14 [==============================] - 0s 10ms/step - loss: 0.0923 - val_loss: 0.0847\n",
      "Epoch 96/600\n",
      "14/14 [==============================] - 0s 9ms/step - loss: 0.1105 - val_loss: 0.0941\n",
      "Epoch 97/600\n",
      "14/14 [==============================] - 0s 9ms/step - loss: 0.1018 - val_loss: 0.0927\n",
      "Epoch 98/600\n",
      "14/14 [==============================] - 0s 8ms/step - loss: 0.1120 - val_loss: 0.1036\n",
      "Epoch 99/600\n",
      "14/14 [==============================] - 0s 11ms/step - loss: 0.0843 - val_loss: 0.0879\n",
      "Epoch 100/600\n",
      "14/14 [==============================] - 0s 8ms/step - loss: 0.1441 - val_loss: 0.0917\n",
      "Epoch 101/600\n",
      "14/14 [==============================] - 0s 8ms/step - loss: 0.1250 - val_loss: 0.0973\n",
      "Epoch 102/600\n",
      "14/14 [==============================] - 0s 9ms/step - loss: 0.0922 - val_loss: 0.1092\n",
      "Epoch 103/600\n",
      "14/14 [==============================] - 0s 8ms/step - loss: 0.0885 - val_loss: 0.0837\n",
      "Epoch 104/600\n",
      "14/14 [==============================] - 0s 8ms/step - loss: 0.0936 - val_loss: 0.0871\n",
      "Epoch 105/600\n",
      "14/14 [==============================] - 0s 8ms/step - loss: 0.0960 - val_loss: 0.0857\n",
      "Epoch 106/600\n",
      "14/14 [==============================] - 0s 8ms/step - loss: 0.1164 - val_loss: 0.0876\n",
      "Epoch 107/600\n",
      "14/14 [==============================] - 0s 8ms/step - loss: 0.0929 - val_loss: 0.0885\n",
      "Epoch 108/600\n",
      "14/14 [==============================] - 0s 8ms/step - loss: 0.0871 - val_loss: 0.0998\n",
      "Epoch 109/600\n",
      "14/14 [==============================] - 0s 9ms/step - loss: 0.0846 - val_loss: 0.0811\n",
      "Epoch 110/600\n",
      "14/14 [==============================] - 0s 8ms/step - loss: 0.0812 - val_loss: 0.0915\n",
      "Epoch 111/600\n",
      "14/14 [==============================] - 0s 8ms/step - loss: 0.0868 - val_loss: 0.1118\n",
      "Epoch 112/600\n",
      "14/14 [==============================] - 0s 8ms/step - loss: 0.0717 - val_loss: 0.0815\n",
      "Epoch 113/600\n",
      "14/14 [==============================] - 0s 8ms/step - loss: 0.1108 - val_loss: 0.0890\n",
      "Epoch 114/600\n",
      "14/14 [==============================] - 0s 8ms/step - loss: 0.0794 - val_loss: 0.0820\n",
      "Epoch 115/600\n",
      "14/14 [==============================] - 0s 9ms/step - loss: 0.1003 - val_loss: 0.0998\n",
      "Epoch 116/600\n",
      "14/14 [==============================] - 0s 9ms/step - loss: 0.1133 - val_loss: 0.0935\n",
      "Epoch 117/600\n",
      "14/14 [==============================] - 0s 8ms/step - loss: 0.0885 - val_loss: 0.0948\n",
      "Epoch 118/600\n",
      "14/14 [==============================] - 0s 8ms/step - loss: 0.0740 - val_loss: 0.0856\n",
      "Epoch 119/600\n",
      "14/14 [==============================] - 0s 8ms/step - loss: 0.0811 - val_loss: 0.0825\n",
      "Epoch 120/600\n",
      "14/14 [==============================] - 0s 8ms/step - loss: 0.0590 - val_loss: 0.1007\n",
      "Epoch 121/600\n",
      "14/14 [==============================] - 0s 8ms/step - loss: 0.0895 - val_loss: 0.0891\n",
      "Epoch 122/600\n",
      "14/14 [==============================] - 0s 11ms/step - loss: 0.0955 - val_loss: 0.0875\n",
      "Epoch 123/600\n",
      "14/14 [==============================] - 0s 11ms/step - loss: 0.0908 - val_loss: 0.1011\n",
      "Epoch 124/600\n",
      "14/14 [==============================] - 0s 11ms/step - loss: 0.1016 - val_loss: 0.0999\n",
      "Epoch 125/600\n",
      "14/14 [==============================] - 0s 11ms/step - loss: 0.0803 - val_loss: 0.0849\n",
      "Epoch 126/600\n",
      "14/14 [==============================] - 0s 8ms/step - loss: 0.0977 - val_loss: 0.0893\n",
      "Epoch 127/600\n",
      "14/14 [==============================] - 0s 11ms/step - loss: 0.0877 - val_loss: 0.0988\n",
      "Epoch 128/600\n",
      "14/14 [==============================] - 0s 10ms/step - loss: 0.1265 - val_loss: 0.0980\n",
      "Epoch 129/600\n",
      "14/14 [==============================] - 0s 10ms/step - loss: 0.1049 - val_loss: 0.0947\n",
      "Epoch 130/600\n",
      "14/14 [==============================] - 0s 11ms/step - loss: 0.0808 - val_loss: 0.1034\n",
      "Epoch 131/600\n",
      "14/14 [==============================] - 0s 9ms/step - loss: 0.0851 - val_loss: 0.1196\n",
      "Epoch 132/600\n",
      "14/14 [==============================] - 0s 9ms/step - loss: 0.1004 - val_loss: 0.1009\n",
      "Epoch 133/600\n",
      "14/14 [==============================] - 0s 9ms/step - loss: 0.1004 - val_loss: 0.0931\n",
      "Epoch 134/600\n",
      "14/14 [==============================] - 0s 8ms/step - loss: 0.0529 - val_loss: 0.0992\n",
      "Epoch 00134: early stopping\n"
     ]
    },
    {
     "data": {
      "text/plain": [
       "<tensorflow.python.keras.callbacks.History at 0x18e8ef1f400>"
      ]
     },
     "execution_count": 28,
     "metadata": {},
     "output_type": "execute_result"
    }
   ],
   "source": [
    "model.fit(x=X_train, \n",
    "          y=y_train, \n",
    "          epochs=600,\n",
    "          validation_data=(X_test, y_test), verbose=1,\n",
    "          callbacks=[early_stop,board]\n",
    "          )"
   ]
  },
  {
   "cell_type": "markdown",
   "metadata": {},
   "source": [
    "# Running Tensorboard\n"
   ]
  },
  {
   "cell_type": "markdown",
   "metadata": {},
   "source": [
    "## Running through the Command Line\n",
    "\n",
    "**Watch video to see how to run Tensorboard through a command line call.**"
   ]
  },
  {
   "cell_type": "markdown",
   "metadata": {},
   "source": [
    "Tensorboard will run locally in your browser at [http://localhost:6006/](http://localhost:6006/)\n"
   ]
  },
  {
   "cell_type": "code",
   "execution_count": 29,
   "metadata": {},
   "outputs": [
    {
     "name": "stdout",
     "output_type": "stream",
     "text": [
      "logs\\fit\n"
     ]
    }
   ],
   "source": [
    "print(log_directory)"
   ]
  },
  {
   "cell_type": "code",
   "execution_count": 30,
   "metadata": {},
   "outputs": [
    {
     "data": {
      "text/plain": [
       "'D:\\\\Machine_Learning_Complete_2\\\\Deep Learning'"
      ]
     },
     "execution_count": 30,
     "metadata": {},
     "output_type": "execute_result"
    }
   ],
   "source": [
    "pwd"
   ]
  },
  {
   "cell_type": "markdown",
   "metadata": {},
   "source": [
    "### Use cd at your command line to change directory to the file path reported back by pwd or your current .py file location.\n",
    "### Then run this code at your command line or terminal"
   ]
  },
  {
   "cell_type": "code",
   "execution_count": 31,
   "metadata": {},
   "outputs": [
    {
     "name": "stdout",
     "output_type": "stream",
     "text": [
      "^C\n"
     ]
    }
   ],
   "source": [
    "! git add Tensorboard.ipynb\n",
    "! git commit -m \"12:42/28-06-2021\"\n",
    "! git push origin main"
   ]
  },
  {
   "cell_type": "code",
   "execution_count": null,
   "metadata": {},
   "outputs": [],
   "source": []
  },
  {
   "cell_type": "code",
   "execution_count": null,
   "metadata": {},
   "outputs": [],
   "source": []
  }
 ],
 "metadata": {
  "kernelspec": {
   "display_name": "Python [conda env:cv] *",
   "language": "python",
   "name": "conda-env-cv-py"
  },
  "language_info": {
   "codemirror_mode": {
    "name": "ipython",
    "version": 3
   },
   "file_extension": ".py",
   "mimetype": "text/x-python",
   "name": "python",
   "nbconvert_exporter": "python",
   "pygments_lexer": "ipython3",
   "version": "3.8.5"
  }
 },
 "nbformat": 4,
 "nbformat_minor": 4
}
